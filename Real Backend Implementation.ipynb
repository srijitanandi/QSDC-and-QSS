{
 "cells": [
  {
   "cell_type": "code",
   "execution_count": 1,
   "id": "35ad842d-dca5-4a0d-b444-b44127d44974",
   "metadata": {},
   "outputs": [],
   "source": [
    "# Import libraries\n",
    "\n",
    "from qiskit import QuantumRegister, ClassicalRegister, QuantumCircuit, execute, assemble\n",
    "from qiskit.visualization import plot_histogram, array_to_latex\n",
    "from qiskit_ibm_provider import IBMProvider, least_busy\n",
    "from qiskit import Aer\n",
    "from qiskit.quantum_info import Statevector, partial_trace, random_unitary\n",
    "from numpy.random import randint, rand\n",
    "from IPython.display import clear_output\n",
    "from qiskit.extensions import Initialize\n",
    "from statistics import mean, stdev, variance\n",
    "from qiskit_aer.noise import NoiseModel, device\n",
    "from qiskit_aer import QasmSimulator\n",
    "import matplotlib.pyplot as plt\n",
    "import numpy as np\n",
    "from math import pi, sqrt\n",
    "import time\n",
    "from random import choice, sample\n",
    "import random\n",
    "\n",
    "\n",
    "IBMProvider.save_account(\n",
    "    \"bdde1c124342f5707b2cb22a03b9facf9d5ec281af7160895d0c1bc976438f056becb5a303f7adbf320d11f09e5e7512d7885c1a09c5df9f34804f09e7a49527\",\n",
    "    overwrite=True,\n",
    ")\n",
    "provider = IBMProvider()\n",
    "shots = 1024\n",
    "sim = provider.get_backend(\"ibmq_qasm_simulator\")\n",
    "backend = provider.get_backend(\"ibmq_lima\")\n",
    "# state_vector_sim = Aer.get_backend(\"statevector_simulator\")"
   ]
  },
  {
   "cell_type": "code",
   "execution_count": 2,
   "id": "wooden-debate",
   "metadata": {},
   "outputs": [
    {
     "name": "stdout",
     "output_type": "stream",
     "text": [
      "ibm_lagos\n",
      "ibm_perth\n",
      "ibmq_jakarta\n",
      "ibmq_quito\n",
      "ibmq_lima\n",
      "ibmq_manila\n",
      "ibm_nairobi\n",
      "ibmq_belem\n",
      "ibmq_belem\n"
     ]
    }
   ],
   "source": [
    "eligible_devices = provider.backends(filters=lambda x:x.configuration().n_qubits>1 and not x.configuration().simulator)\n",
    "\n",
    "for backend in eligible_devices:\n",
    "    print(backend.name)\n",
    "\n",
    "            \n",
    "chosen_backend = least_busy(eligible_devices)\n",
    "print(chosen_backend.name)"
   ]
  },
  {
   "cell_type": "code",
   "execution_count": 3,
   "id": "e81c37d8-8de2-4f4d-91c4-4003c58cd16a",
   "metadata": {},
   "outputs": [],
   "source": [
    "#function to create pure entangled states\n",
    "\n",
    "def pure_estate(circuit,q0,q1):\n",
    "    u1 = random_unitary(2)\n",
    "    circuit.append(u1,[q0])\n",
    "    circuit.cx(q0,q1)\n",
    "    \n",
    "    return circuit       "
   ]
  },
  {
   "cell_type": "code",
   "execution_count": 4,
   "id": "40d67c20-7dc5-45c4-aab3-53e21fb01bae",
   "metadata": {},
   "outputs": [
    {
     "name": "stdin",
     "output_type": "stream",
     "text": [
      "Length of message: 15\n"
     ]
    },
    {
     "name": "stdout",
     "output_type": "stream",
     "text": [
      "[1 0 1 0 1 0 1 0 0 1 1 0 0 0 1]\n"
     ]
    },
    {
     "name": "stdin",
     "output_type": "stream",
     "text": [
      "Number of decoy bits to be inserted: 10\n"
     ]
    }
   ],
   "source": [
    "###### Generating a random message\n",
    "\n",
    "n=int(input(\"Length of message:\"))\n",
    "message = np.random.randint(2, size = n)\n",
    "print(message)\n",
    "nd=int(input(\"Number of decoy bits to be inserted:\"))"
   ]
  },
  {
   "cell_type": "code",
   "execution_count": 5,
   "id": "disciplinary-emission",
   "metadata": {},
   "outputs": [],
   "source": [
    "#Generating a list of possible states\n",
    "\n",
    "states=['0', '1', '+', '-']"
   ]
  },
  {
   "cell_type": "code",
   "execution_count": 6,
   "id": "d57fd873-2fe2-4efb-8cb1-f2be41a225ea",
   "metadata": {},
   "outputs": [],
   "source": [
    "#Generating set of decoy photons\n",
    "\n",
    "dq_st=[]\n",
    "def gen_decoy(i):\n",
    "    dqu=QuantumCircuit(1)\n",
    "    if i=='1' or i=='-':\n",
    "        dqu.x(0)\n",
    "    if i=='+' or i=='-':\n",
    "        dqu.h(0)\n",
    "    return dqu\n",
    "    #dqu.save_statevetor()\n",
    "    #dq.append(dqu)\n",
    "    #result = state_vector_sim.run(dqu).result()\n",
    "    #sv = result.get_statevector()\n",
    "    #dq_st.append(sv)"
   ]
  },
  {
   "cell_type": "code",
   "execution_count": 7,
   "id": "8d1eb3be-7d29-45b1-951d-35e4a3781647",
   "metadata": {},
   "outputs": [
    {
     "name": "stdout",
     "output_type": "stream",
     "text": [
      "[0, 1, 3, 5, 13, 14, 15, 16, 21, 22]\n"
     ]
    }
   ],
   "source": [
    "#Step1:Creating n pure entangled states\n",
    "def create_pest(m):\n",
    "    pk=[]\n",
    "    for i in range(m):\n",
    "        qr = QuantumRegister(2, 'qb')\n",
    "        cr = ClassicalRegister(1, 'cb')\n",
    "        circuit = QuantumCircuit(qr,cr)\n",
    "        state=(pure_estate(circuit,qr[0],qr[1]))\n",
    "        pk.append(state)\n",
    "        #display(pk[i].draw('mpl'))\n",
    "    return pk\n",
    "\n",
    "private_key0=create_pest(n)\n",
    "#check eavesdropping by adding decoy photons at random position and printing the positions\n",
    "\n",
    "def create_pkd(private_key,n,nd):\n",
    "    pkd=[]\n",
    "    for i in range(n):\n",
    "        pkd.append(private_key[i].copy())\n",
    "    lst=[x for x in range(n+nd)]\n",
    "    pos1=sample(lst,nd)\n",
    "    pos1.sort()\n",
    "    rdq1=[]\n",
    "    rdq_st1=[]\n",
    "    for i in pos1:\n",
    "        decoy_st1=choice(states)\n",
    "        decoy1=gen_decoy(decoy_st1)\n",
    "        rdq1.append(decoy1)\n",
    "        rdq_st1.append(decoy_st1)\n",
    "        decoy12=decoy1.copy()\n",
    "        pkd.insert(i,decoy12)\n",
    "    print(pos1)\n",
    "    return pkd,rdq_st1,pos1\n",
    "\n",
    "pkd0,rdq_st10,pos10=create_pkd(private_key0,n,nd)"
   ]
  },
  {
   "cell_type": "code",
   "execution_count": 8,
   "id": "912e0cbc-1445-4ea8-8ec8-07e0a5f2f3f2",
   "metadata": {},
   "outputs": [
    {
     "name": "stdout",
     "output_type": "stream",
     "text": [
      "0\n",
      "-\n",
      "+\n",
      "0\n",
      "-\n",
      "-\n",
      "0\n",
      "0\n",
      "0\n",
      "0\n"
     ]
    }
   ],
   "source": [
    "#for i in range(nd):\n",
    "    #result = state_vector_sim.run(rdq1[i]).result()\n",
    "    #sv = result.get_statevector()\n",
    "    #print(sv)\n",
    "for i in range(nd):\n",
    "    print(rdq_st10[i])"
   ]
  },
  {
   "cell_type": "code",
   "execution_count": 9,
   "id": "fuzzy-literature",
   "metadata": {},
   "outputs": [],
   "source": [
    "def noisy_meas_err_func(cc,rdq_st,j,shots,flag):\n",
    "    err=0\n",
    "    err_c=0\n",
    "    a=list(cc.keys())\n",
    "    a.sort()\n",
    "    if '0' in cc and '1' not in cc:\n",
    "        if flag==0:\n",
    "            if a[0] != '0':\n",
    "                err=shots\n",
    "                err_c+=1\n",
    "        else:\n",
    "            if rdq_st[j]=='-':\n",
    "                err=shots\n",
    "                err_c+=1\n",
    "    elif '1' in cc and '0' not in cc:\n",
    "        if flag==0:\n",
    "            if a[0] != '1':\n",
    "                err=shots\n",
    "                err_c+=1\n",
    "        else:\n",
    "            if rdq_st[j]=='+':\n",
    "                err=shots\n",
    "                err_c+=1  \n",
    "    if '0' in cc and '1' in cc:\n",
    "        if flag == 0:\n",
    "            if a[0] == rdq_st[j]:\n",
    "                err=cc['1']\n",
    "                if cc['1']>cc['0'] or abs(cc['0']-cc['1'])<600:\n",
    "                    err_c += 1\n",
    "            elif a[1] == rdq_st[j]:\n",
    "                err = cc['0']\n",
    "                if cc['0']>cc['1'] or abs(cc['0']-cc['1'])<600:\n",
    "                    err_c += 1\n",
    "        elif flag==1:\n",
    "            if rdq_st[j]=='+':\n",
    "                err=cc['1']\n",
    "                if abs(cc['0']-cc['1'])<600:\n",
    "                    err_c += 1\n",
    "            elif rdq_st[j]=='-':\n",
    "                err=cc['0']\n",
    "                if abs(cc['0']-cc['1'])<600:\n",
    "                    err_c += 1\n",
    "    \n",
    "    return err,err_c"
   ]
  },
  {
   "cell_type": "code",
   "execution_count": 10,
   "id": "optical-retrieval",
   "metadata": {},
   "outputs": [
    {
     "data": {
      "image/png": "[encoded data removed]",
      "text/plain": [
       "<Figure size 201.078x200.667 with 1 Axes>"
      ]
     },
     "metadata": {},
     "output_type": "display_data"
    },
    {
     "name": "stdout",
     "output_type": "stream",
     "text": [
      "The measurements of the decoy photon at position 0 after the attack is: {'0': 1021, '1': 3}\n"
     ]
    },
    {
     "data": {
      "image/png": "[encoded data removed]",
      "text/plain": [
       "<Figure size 452.113x200.667 with 1 Axes>"
      ]
     },
     "metadata": {},
     "output_type": "display_data"
    },
    {
     "data": {
      "image/png": "[encoded data removed]",
      "text/plain": [
       "<Figure size 201.481x200.667 with 1 Axes>"
      ]
     },
     "metadata": {},
     "output_type": "display_data"
    },
    {
     "name": "stdout",
     "output_type": "stream",
     "text": [
      "The measurements of the decoy photon at position 5 after the attack is: {'0': 1021, '1': 3}\n"
     ]
    },
    {
     "data": {
      "image/png": "[encoded data removed]",
      "text/plain": [
       "<Figure size 452.315x200.667 with 1 Axes>"
      ]
     },
     "metadata": {},
     "output_type": "display_data"
    },
    {
     "name": "stdout",
     "output_type": "stream",
     "text": [
      "The measurements of the decoy photon at position 13 after the attack is: {'0': 43, '1': 981}\n"
     ]
    },
    {
     "data": {
      "image/png": "[encoded data removed]",
      "text/plain": [
       "<Figure size 452.315x200.667 with 1 Axes>"
      ]
     },
     "metadata": {},
     "output_type": "display_data"
    },
    {
     "name": "stdout",
     "output_type": "stream",
     "text": [
      "The measurements of the decoy photon at position 14 after the attack is: {'0': 40, '1': 984}\n"
     ]
    },
    {
     "data": {
      "image/png": "[encoded data removed]",
      "text/plain": [
       "<Figure size 201.28x200.667 with 1 Axes>"
      ]
     },
     "metadata": {},
     "output_type": "display_data"
    },
    {
     "name": "stdout",
     "output_type": "stream",
     "text": [
      "The measurements of the decoy photon at position 15 after the attack is: {'0': 1022, '1': 2}\n"
     ]
    },
    {
     "data": {
      "image/png": "[encoded data removed]",
      "text/plain": [
       "<Figure size 201.481x200.667 with 1 Axes>"
      ]
     },
     "metadata": {},
     "output_type": "display_data"
    },
    {
     "name": "stdout",
     "output_type": "stream",
     "text": [
      "The measurements of the decoy photon at position 16 after the attack is: {'0': 1022, '1': 2}\n"
     ]
    },
    {
     "data": {
      "image/png": "[encoded data removed]",
      "text/plain": [
       "<Figure size 201.481x200.667 with 1 Axes>"
      ]
     },
     "metadata": {},
     "output_type": "display_data"
    },
    {
     "name": "stdout",
     "output_type": "stream",
     "text": [
      "The measurements of the decoy photon at position 22 after the attack is: {'0': 1021, '1': 3}\n",
      "Error rate in measuring decoy photons: 1.7578125 %\n",
      "The number of mismatched decoy photons is 0 and the error rate of trasmitting decoy photons: 0.0 %\n",
      "Time taken to measure 10 decoy photons: 1 hours 2 minutes 43.335023164749146 seconds\n",
      "\n",
      "No Eavesdropper detected.\n"
     ]
    }
   ],
   "source": [
    "#Measuring the decoy photons inserted in sequence of pure entangled states in respective bases and finiding the errors\n",
    "\n",
    "errors_for_first_check0=[]\n",
    "errors_count_for_first_check0=[]\n",
    "def check_eavesdropper1(pkd,rdq_st1,errors_for_first_check0,errors_count_for_first_check0,pos1):\n",
    "    j=0\n",
    "    err1=0\n",
    "    err_rate1=0.0\n",
    "    err_flag1=0\n",
    "    err_count1=0\n",
    "    err_count_rate1=0.0\n",
    "    time01 = time.time()\n",
    "    for i in pos1:\n",
    "        flag=0\n",
    "        pkd[i].add_register(ClassicalRegister(1))\n",
    "        if rdq_st1[j]=='+' or rdq_st1[j]=='-':\n",
    "            pkd[i].h(0)\n",
    "            flag=1\n",
    "        pkd[i].measure(0,0)\n",
    "        rslt1 = execute(pkd[i], backend=chosen_backend, shots=shots).result()\n",
    "        cc1 = rslt1.get_counts()\n",
    "        k=list(cc1.keys())\n",
    "        k.sort()\n",
    "        display(pkd[i].draw('mpl'))\n",
    "        print(\"The measurements of the decoy photon at position\",i,\"after the attack is:\",cc1)       \n",
    "        err1,err_flag1=noisy_meas_err_func(cc1,rdq_st1,j,shots,flag)\n",
    "        err_count1+=err_flag1\n",
    "        j=j+1\n",
    "        err_rate1=err_rate1+float((err1/shots)*100)\n",
    "    time_1 = time.time() - time01\n",
    "    hr1 = time_1//3600\n",
    "    time_1 %= 3600\n",
    "    err_rate1=float(err_rate1/nd)\n",
    "    err_count_rate1=float(( err_count1/nd)*100)\n",
    "    errors_for_first_check0.append(err_rate1)\n",
    "    errors_count_for_first_check0.append(err_count_rate1)\n",
    "    return  err_count1,err_count_rate1,err_rate1,hr1,time_1\n",
    "\n",
    "err_count1,err_count_rate1,err_rate1,hr1,time_1=check_eavesdropper1(pkd0,rdq_st10,errors_for_first_check0,errors_count_for_first_check0,pos10)\n",
    "print(f\"Error rate in measuring decoy photons: {err_rate1} %\")\n",
    "print(f\"The number of mismatched decoy photons is {err_count1} and the error rate of trasmitting decoy photons: {err_count_rate1} %\")\n",
    "print(f'Time taken to measure {nd} decoy photons: {int(hr1)} hours {int(time_1//60)} minutes {time_1%60} seconds')\n",
    "if err_count1!=0:\n",
    "    print(\"\\nEavesdropper detected.\")\n",
    "else:\n",
    "    print(\"\\nNo Eavesdropper detected.\")"
   ]
  },
  {
   "cell_type": "code",
   "execution_count": 11,
   "id": "a09e51ee-7bf5-4434-a378-09c1ef1218fd",
   "metadata": {},
   "outputs": [],
   "source": [
    "#Step2:Creating a sequence of travelling qubits in Z basis\n",
    "\n",
    "def create_tq(msg):\n",
    "    tt=[]\n",
    "    for i in msg:\n",
    "        t=QuantumCircuit(QuantumRegister(1))\n",
    "        if i==0:\n",
    "            tt.append(t)\n",
    "        else:\n",
    "            t.x(0)\n",
    "            tt.append(t)\n",
    "    return tt\n",
    "\n",
    "\n",
    "tq0=create_tq(message)        "
   ]
  },
  {
   "cell_type": "code",
   "execution_count": 12,
   "id": "ab02e2ce-b2a3-4695-8546-ce5073b08e1a",
   "metadata": {},
   "outputs": [
    {
     "name": "stdout",
     "output_type": "stream",
     "text": [
      "[0, 5, 9, 11, 12, 13, 15, 16, 17, 22]\n"
     ]
    }
   ],
   "source": [
    "# Step3: Encrypting the message using CNOT gate\n",
    "\n",
    "\n",
    "def encrypt_mes(pk, tt, m):\n",
    "    for i in range(m):\n",
    "        pk[i].add_register(*tt[i].qregs)\n",
    "        pk[i].barrier()\n",
    "        pk[i]=pk[i].compose(tt[i], [pk[i].qubits[-1]])\n",
    "        pk[i].cx(0, 2)\n",
    "        #display(pk[i].draw(\"mpl\"))\n",
    "\n",
    "\n",
    "encrypt_mes(private_key0, tq0, n)\n",
    "\n",
    "\n",
    "# inserting decoy photons in the sequence of travelling photons to check for eavesdropping\n",
    "def insert_decoys2(private_key, nd):\n",
    "    rdq_st2 = []\n",
    "    lst = [x for x in range(n + nd)]\n",
    "    pos2 = sample(lst, nd)\n",
    "    pos2.sort()\n",
    "    rdq2 = []\n",
    "    for i in pos2:\n",
    "        decoy_st2 = choice(states)\n",
    "        decoy2 = gen_decoy(decoy_st2)\n",
    "        rdq2.append(decoy2)\n",
    "        rdq_st2.append(decoy_st2)\n",
    "        decoy22 = decoy2.copy()\n",
    "        private_key.insert(i, decoy22)\n",
    "    print(pos2)\n",
    "    return private_key, rdq_st2, pos2\n",
    "\n",
    "\n",
    "private_key0, rdq_st20, pos20 = insert_decoys2(private_key0, nd)"
   ]
  },
  {
   "cell_type": "code",
   "execution_count": 13,
   "id": "4c9f1423-fd73-4c27-8044-d8d992ea74a6",
   "metadata": {},
   "outputs": [
    {
     "name": "stdout",
     "output_type": "stream",
     "text": [
      "1\n",
      "0\n",
      "-\n",
      "-\n",
      "+\n",
      "+\n",
      "1\n",
      "0\n",
      "-\n",
      "+\n"
     ]
    }
   ],
   "source": [
    "for i in range(nd):\n",
    "    print(rdq_st20[i])"
   ]
  },
  {
   "cell_type": "code",
   "execution_count": 14,
   "id": "326db9a4-ee88-48c3-a3a1-b053df08f231",
   "metadata": {},
   "outputs": [
    {
     "data": {
      "image/png": "[encoded data removed]",
      "text/plain": [
       "<Figure size 302.919x200.667 with 1 Axes>"
      ]
     },
     "metadata": {},
     "output_type": "display_data"
    },
    {
     "name": "stdout",
     "output_type": "stream",
     "text": [
      "The measurements of the decoy photon at position 0 after the attack is: {'0': 48, '1': 976}\n"
     ]
    },
    {
     "data": {
      "image/png": "[encoded data removed]",
      "text/plain": [
       "<Figure size 219.51x200.667 with 1 Axes>"
      ]
     },
     "metadata": {},
     "output_type": "display_data"
    },
    {
     "name": "stdout",
     "output_type": "stream",
     "text": [
      "The measurements of the decoy photon at position 5 after the attack is: {'0': 1019, '1': 5}\n"
     ]
    },
    {
     "data": {
      "image/png": "[encoded data removed]",
      "text/plain": [
       "<Figure size 470.545x200.667 with 1 Axes>"
      ]
     },
     "metadata": {},
     "output_type": "display_data"
    },
    {
     "name": "stdout",
     "output_type": "stream",
     "text": [
      "The measurements of the decoy photon at position 9 after the attack is: {'0': 50, '1': 974}\n"
     ]
    },
    {
     "data": {
      "image/png": "[encoded data removed]",
      "text/plain": [
       "<Figure size 470.545x200.667 with 1 Axes>"
      ]
     },
     "metadata": {},
     "output_type": "display_data"
    },
    {
     "name": "stdout",
     "output_type": "stream",
     "text": [
      "The measurements of the decoy photon at position 11 after the attack is: {'0': 58, '1': 966}\n"
     ]
    },
    {
     "data": {
      "image/png": "[encoded data removed]",
      "text/plain": [
       "<Figure size 386.934x200.667 with 1 Axes>"
      ]
     },
     "metadata": {},
     "output_type": "display_data"
    },
    {
     "name": "stdout",
     "output_type": "stream",
     "text": [
      "The measurements of the decoy photon at position 12 after the attack is: {'0': 1019, '1': 5}\n"
     ]
    },
    {
     "data": {
      "image/png": "[encoded data removed]",
      "text/plain": [
       "<Figure size 386.934x200.667 with 1 Axes>"
      ]
     },
     "metadata": {},
     "output_type": "display_data"
    },
    {
     "name": "stdout",
     "output_type": "stream",
     "text": [
      "The measurements of the decoy photon at position 13 after the attack is: {'0': 1023, '1': 1}\n"
     ]
    },
    {
     "data": {
      "image/png": "[encoded data removed]",
      "text/plain": [
       "<Figure size 303.121x200.667 with 1 Axes>"
      ]
     },
     "metadata": {},
     "output_type": "display_data"
    },
    {
     "name": "stdout",
     "output_type": "stream",
     "text": [
      "The measurements of the decoy photon at position 15 after the attack is: {'0': 49, '1': 975}\n"
     ]
    },
    {
     "data": {
      "image/png": "[encoded data removed]",
      "text/plain": [
       "<Figure size 219.712x200.667 with 1 Axes>"
      ]
     },
     "metadata": {},
     "output_type": "display_data"
    },
    {
     "name": "stdout",
     "output_type": "stream",
     "text": [
      "The measurements of the decoy photon at position 16 after the attack is: {'0': 1024}\n"
     ]
    },
    {
     "data": {
      "image/png": "[encoded data removed]",
      "text/plain": [
       "<Figure size 470.343x200.667 with 1 Axes>"
      ]
     },
     "metadata": {},
     "output_type": "display_data"
    },
    {
     "name": "stdout",
     "output_type": "stream",
     "text": [
      "The measurements of the decoy photon at position 17 after the attack is: {'0': 48, '1': 976}\n"
     ]
    },
    {
     "data": {
      "image/png": "[encoded data removed]",
      "text/plain": [
       "<Figure size 386.934x200.667 with 1 Axes>"
      ]
     },
     "metadata": {},
     "output_type": "display_data"
    },
    {
     "name": "stdout",
     "output_type": "stream",
     "text": [
      "The measurements of the decoy photon at position 22 after the attack is: {'0': 1021, '1': 3}\n",
      "Error rate in measuring decoy photons: 2.607421875 %\n",
      "The number of mismatched decoy photons is 0 and the error rate of trasmitting decoy photons: 0.0 %\n",
      "Time taken to measure 10 decoy photons: 0 hours 19 minutes 24.219533443450928 seconds\n",
      "\n",
      "No Eavesdropper detected.\n"
     ]
    }
   ],
   "source": [
    "#Measuring the decoy photons inserted in sequence of travelling photons in respective bases and finiding the errors\n",
    "\n",
    "errors_for_second_check0=[]\n",
    "def check_eavesdropper2(pk,rdq_st2,errors_for_second_check,pos2):\n",
    "    j=0\n",
    "    err2=0\n",
    "    err_rate2=0.0\n",
    "    err_flag2=0\n",
    "    err_count2=0\n",
    "    err_count_rate2=0.0\n",
    "    time02 = time.time()\n",
    "    for i in pos2:\n",
    "        flag=0\n",
    "        pk[i].add_register(ClassicalRegister(1))\n",
    "        if rdq_st2[j]=='+' or rdq_st2[j]=='-':\n",
    "            pk[i].h(0)\n",
    "            flag=1\n",
    "        pk[i].measure(0,0)\n",
    "        rslt2 = execute(pk[i], backend=chosen_backend, shots=shots).result()\n",
    "        cc2 = rslt2.get_counts()\n",
    "        m=list(cc2.keys())\n",
    "        m.sort()\n",
    "        display(pk[i].draw('mpl'))\n",
    "        print(\"The measurements of the decoy photon at position\",i,\"after the attack is:\",cc2)       \n",
    "        err2,err_flag2=noisy_meas_err_func(cc2,rdq_st2,j,shots,flag)\n",
    "        err_count2+=err_flag2\n",
    "        j=j+1\n",
    "        err_rate2=err_rate2+float((err2/shots)*100)\n",
    "    time_2 = time.time() - time02\n",
    "    hr2 = time_2//3600\n",
    "    time_2 %= 3600\n",
    "    err_rate2=float(err_rate2/nd)\n",
    "    err_count_rate2=float((err_count2/nd)*100)\n",
    "    errors_for_second_check.append(err_rate2)\n",
    "    return err_count2,err_count_rate2,err_rate2,hr2,time_2\n",
    "\n",
    "err_count2,err_count_rate2,err_rate2,hr2,time_2=check_eavesdropper2(private_key0,rdq_st20,errors_for_second_check0,pos20)\n",
    "print(f\"Error rate in measuring decoy photons: {err_rate2} %\")\n",
    "print(f\"The number of mismatched decoy photons is {err_count2} and the error rate of trasmitting decoy photons: {err_count_rate2} %\")\n",
    "print(f'Time taken to measure {nd} decoy photons: {int(hr2)} hours {int(time_2//60)} minutes {time_2%60} seconds')\n",
    "if err_count2!=0:\n",
    "    print(\"\\nEavesdropper detected.\")\n",
    "else:\n",
    "    print(\"\\nNo Eavesdropper detected.\")"
   ]
  },
  {
   "cell_type": "code",
   "execution_count": 15,
   "id": "afe329d9-8a1a-4eb2-90b6-d6eff0326ff2",
   "metadata": {},
   "outputs": [],
   "source": [
    "#Step 4: Decrypting the message using CNOT gate\n",
    "\n",
    "def decrypt_mes(pk,m,pos2):\n",
    "    for i in range(m):\n",
    "        if i not in pos2:\n",
    "            pk[i].cx(1,2)\n",
    "            pk[i].barrier()\n",
    "        \n",
    "decrypt_mes(private_key0,n+nd,pos20)"
   ]
  },
  {
   "cell_type": "code",
   "execution_count": 16,
   "id": "stone-script",
   "metadata": {},
   "outputs": [],
   "source": [
    "def cal_error_and_res(fm,mssg,j):\n",
    "    error=0\n",
    "    wrong_mssg=0\n",
    "    a=list(fm.keys())\n",
    "    a.sort()\n",
    "    res=-1\n",
    "    if '0' in fm and '1' not in fm:\n",
    "        res=0\n",
    "    elif '1' in fm and '0' not in fm:\n",
    "        res=1\n",
    "    if '0' in fm and '1' in fm:\n",
    "        if fm['0']>fm['1'] and abs(fm['0']-fm['1'])>600:\n",
    "            res=0\n",
    "        elif fm['0']<fm['1'] and abs(fm['0']-fm['1'])>600:\n",
    "            res=1\n",
    "        if int(a[0])==mssg[j]:\n",
    "            error=fm['1']\n",
    "        elif int(a[1])==mssg[j]:\n",
    "            error=fm['0']\n",
    "    if res!=mssg[j]:\n",
    "        wrong_mssg=1\n",
    "    return res,error,wrong_mssg"
   ]
  },
  {
   "cell_type": "code",
   "execution_count": 17,
   "id": "ac3f730c-601f-43c1-8318-f2fd3bfbb987",
   "metadata": {},
   "outputs": [
    {
     "name": "stdout",
     "output_type": "stream",
     "text": [
      "{'0': 118, '1': 906}\n",
      "{'0': 969, '1': 55}\n",
      "{'0': 111, '1': 913}\n",
      "{'0': 968, '1': 56}\n",
      "{'0': 92, '1': 932}\n",
      "{'0': 986, '1': 38}\n",
      "{'0': 99, '1': 925}\n",
      "{'0': 895, '1': 129}\n",
      "{'0': 976, '1': 48}\n",
      "{'0': 67, '1': 957}\n",
      "{'0': 95, '1': 929}\n",
      "{'0': 962, '1': 62}\n",
      "{'0': 971, '1': 53}\n",
      "{'0': 974, '1': 50}\n",
      "{'0': 93, '1': 931}\n",
      "The number of mismatched message photons is 0 and the amount of mismatched message photons:0.0 %\n",
      "Error rate in measuring message photons: 7.591145833333333 %\n",
      "Time taken to measure 15 message photons: 0 hours 1 minutes 46.87853264808655 seconds\n"
     ]
    }
   ],
   "source": [
    "#Measuring the travelling qubit in Z basis\n",
    "\n",
    "error_lst=[]\n",
    "errors_in_mssg=[]\n",
    "def measure_tq(pk,error_lst,errors_in_mssg,mssg,pos2):\n",
    "    error=0\n",
    "    error_rate=0.0\n",
    "    error_in_mssg=0\n",
    "    error_in_mssg_rate=0.0\n",
    "    result2=[]\n",
    "    time03 = time.time()\n",
    "    j=0\n",
    "    for i in range(n+nd):\n",
    "        if i not in pos2:\n",
    "            pk[i].measure(2,0)\n",
    "            pk[i].barrier()\n",
    "            result = execute(pk[i], backend=chosen_backend, shots=shots).result()\n",
    "            noisy_counts=result.get_counts()\n",
    "            #display(pk[i].draw('mpl'))\n",
    "            print(noisy_counts)\n",
    "            res,error,wrong_mssg=cal_error_and_res(noisy_counts,mssg,j)\n",
    "            error_in_mssg+=wrong_mssg\n",
    "            error_rate = error_rate + float((error/shots)*100)\n",
    "            result2.append(res)\n",
    "            j+=1\n",
    "    time_3 = time.time() - time03\n",
    "    hr3 = time_3//3600\n",
    "    time_3 %= 3600\n",
    "    error_in_mssg_rate=float((error_in_mssg/n)*100)\n",
    "    error_rate = float(error_rate/n)\n",
    "    error_lst.append(error_rate)\n",
    "    errors_in_mssg.append(error_in_mssg_rate)\n",
    "    print(f\"The number of mismatched message photons is {error_in_mssg} and the amount of mismatched message photons:{error_in_mssg_rate} %\")\n",
    "    print(f\"Error rate in measuring message photons: {error_rate} %\")\n",
    "    print(f'Time taken to measure {n} message photons: {int(hr3)} hours {int(time_3//60)} minutes {time_3%60} seconds')\n",
    "    return result2\n",
    "\n",
    "final_res=measure_tq(private_key0,error_lst,errors_in_mssg,message,pos20)     \n"
   ]
  },
  {
   "cell_type": "code",
   "execution_count": null,
   "id": "integrated-following",
   "metadata": {},
   "outputs": [],
   "source": []
  }
 ],
 "metadata": {
  "kernelspec": {
   "display_name": "Python 3",
   "language": "python",
   "name": "python3"
  },
  "language_info": {
   "codemirror_mode": {
    "name": "ipython",
    "version": 3
   },
   "file_extension": ".py",
   "mimetype": "text/x-python",
   "name": "python",
   "nbconvert_exporter": "python",
   "pygments_lexer": "ipython3",
   "version": "3.9.1"
  },
  "widgets": {
   "application/vnd.jupyter.widget-state+json": {
    "state": {},
    "version_major": 2,
    "version_minor": 0
   }
  }
 },
 "nbformat": 4,
 "nbformat_minor": 5
}
